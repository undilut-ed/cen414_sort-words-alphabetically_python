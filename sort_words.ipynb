{
 "cells": [
  {
   "cell_type": "code",
   "execution_count": 1,
   "id": "5d6fcb9f-05ca-4812-83dd-5bcc5379ce84",
   "metadata": {},
   "outputs": [],
   "source": [
    "import string\n",
    "my_list = [\"dog\", \"cat\", \"elephant\", \"zebra\", \"bee\", \"fish\", \"dolphin\"]\n",
    "my_list = list(map(lambda x: x.lower(), my_list))"
   ]
  },
  {
   "cell_type": "code",
   "execution_count": 2,
   "id": "83e665fd-63e6-48f2-9344-f6be36807192",
   "metadata": {},
   "outputs": [],
   "source": [
    "def rearrange(items):\n",
    "        for passno in range(len(items) - 1):\n",
    "            for idx in range(len(items) - 1):\n",
    "                if items[idx] > items[idx+1]:\n",
    "                    items[idx], items[idx+1] = items[idx+1], items[idx]\n",
    "        return items"
   ]
  },
  {
   "cell_type": "code",
   "execution_count": 5,
   "id": "34bb7bb9-957f-4392-8e01-87f1d73956eb",
   "metadata": {},
   "outputs": [
    {
     "name": "stdout",
     "output_type": "stream",
     "text": [
      "['bee', 'cat', 'dog', 'dolphin', 'elephant', 'fish', 'zebra']\n"
     ]
    }
   ],
   "source": [
    "rearranged = rearrange(my_list)\n",
    "print(rearranged)"
   ]
  },
  {
   "cell_type": "code",
   "execution_count": 6,
   "id": "9766e84a-43c6-45f0-b403-f3930d6fb9e0",
   "metadata": {},
   "outputs": [
    {
     "name": "stdout",
     "output_type": "stream",
     "text": [
      "['zebra', 'fish', 'elephant', 'dolphin', 'dog', 'cat', 'bee']\n"
     ]
    }
   ],
   "source": [
    "print(rearranged[::-1])"
   ]
  }
 ],
 "metadata": {
  "kernelspec": {
   "display_name": "Python 3 (ipykernel)",
   "language": "python",
   "name": "python3"
  },
  "language_info": {
   "codemirror_mode": {
    "name": "ipython",
    "version": 3
   },
   "file_extension": ".py",
   "mimetype": "text/x-python",
   "name": "python",
   "nbconvert_exporter": "python",
   "pygments_lexer": "ipython3",
   "version": "3.10.5"
  }
 },
 "nbformat": 4,
 "nbformat_minor": 5
}
